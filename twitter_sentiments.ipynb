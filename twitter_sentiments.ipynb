{
 "cells": [
  {
   "cell_type": "markdown",
   "metadata": {},
   "source": [
    "# Exploring Twitter Sentiment\n",
    "\n",
    "This is my practice working through a set of problems from the [intro to NLP course by Shivam Bansal](https://courses.analyticsvidhya.com/courses/Intro-to-NLP).\n",
    "\n",
    "The course provides an example table of data containing ~15,000 tweets and their assocaited meta data. First we want to find the most common words in tweets."
   ]
  },
  {
   "cell_type": "code",
   "execution_count": 33,
   "metadata": {},
   "outputs": [],
   "source": [
    "import pandas as pd\n",
    "import numpy as np"
   ]
  },
  {
   "cell_type": "code",
   "execution_count": 6,
   "metadata": {},
   "outputs": [
    {
     "name": "stdout",
     "output_type": "stream",
     "text": [
      "   X                                               text  favorited  \\\n",
      "1  1  RT @rssurjewala: Critical question: Was PayTM ...      False   \n",
      "2  2  RT @Hemant_80: Did you vote on #Demonetization...      False   \n",
      "3  3  RT @roshankar: Former FinSec, RBI Dy Governor,...      False   \n",
      "4  4  RT @ANI_news: Gurugram (Haryana): Post office ...      False   \n",
      "5  5  RT @satishacharya: Reddy Wedding! @mail_today ...      False   \n",
      "\n",
      "   favoriteCount replyToSN              created  truncated  replyToSID  \\\n",
      "1              0       NaN  2016-11-23 18:40:30      False         NaN   \n",
      "2              0       NaN  2016-11-23 18:40:29      False         NaN   \n",
      "3              0       NaN  2016-11-23 18:40:03      False         NaN   \n",
      "4              0       NaN  2016-11-23 18:39:59      False         NaN   \n",
      "5              0       NaN  2016-11-23 18:39:39      False         NaN   \n",
      "\n",
      "             id  replyToUID  \\\n",
      "1  8.014957e+17         NaN   \n",
      "2  8.014957e+17         NaN   \n",
      "3  8.014955e+17         NaN   \n",
      "4  8.014955e+17         NaN   \n",
      "5  8.014954e+17         NaN   \n",
      "\n",
      "                                        statusSource       screenName  \\\n",
      "1  <a href=\"http://twitter.com/download/android\" ...  HASHTAGFARZIWAL   \n",
      "2  <a href=\"http://twitter.com/download/android\" ...   PRAMODKAUSHIK9   \n",
      "3  <a href=\"http://twitter.com/download/android\" ...  rahulja13034944   \n",
      "4  <a href=\"http://twitter.com/download/android\" ...        deeptiyvd   \n",
      "5  <a href=\"http://cpimharyana.com\" rel=\"nofollow...        CPIMBadli   \n",
      "\n",
      "   retweetCount  isRetweet  retweeted  \n",
      "1           331       True      False  \n",
      "2            66       True      False  \n",
      "3            12       True      False  \n",
      "4           338       True      False  \n",
      "5           120       True      False  \n"
     ]
    }
   ],
   "source": [
    "dF = pd.read_csv('data/tweets.csv', index_col=0, encoding='ISO-8859-1')\n",
    "\n",
    "print(dF.head(5))"
   ]
  },
  {
   "cell_type": "code",
   "execution_count": 57,
   "metadata": {},
   "outputs": [],
   "source": [
    "def count_word_freqs(text, n_top = 20):\n",
    "    \"\"\"\n",
    "    Count the frequency of each word and return the most frequent\n",
    "    \n",
    "    Parameters: \n",
    "    -----------\n",
    "    text : pandas series object\n",
    "        Pandas series object (column) of tweet texts\n",
    "    n_top : int\n",
    "        the number of most frequent entries to be returned\n",
    "    \n",
    "    Returns:\n",
    "    -----------\n",
    "    count_freqs : pandas Series\n",
    "        A pandas series with the most frequent words and the \n",
    "        frequency in which they appear\n",
    "    \"\"\"\n",
    "    # stack and split tweets into individual words\n",
    "    stacked = np.hstack(text.str.split())\n",
    "    \n",
    "    count_freqs = pd.Series(stacked).value_counts()[:n_top]\n",
    "    \n",
    "    return count_freqs\n"
   ]
  },
  {
   "cell_type": "code",
   "execution_count": 56,
   "metadata": {},
   "outputs": [
    {
     "data": {
      "text/plain": [
       "RT                 11053\n",
       "to                  7650\n",
       "is                  5152\n",
       "in                  4491\n",
       "the                 4331\n",
       "of                  4053\n",
       "#Demonetization     3253\n",
       "demonetization      3162\n",
       "on                  2751\n",
       "#demonetization     2474\n",
       "PM                  2384\n",
       "Modi                2379\n",
       "India               2243\n",
       "and                 2220\n",
       "a                   2180\n",
       "that                2168\n",
       "out                 1729\n",
       "for                 1672\n",
       "so                  1599\n",
       "had                 1598\n",
       "dtype: int64"
      ]
     },
     "execution_count": 56,
     "metadata": {},
     "output_type": "execute_result"
    }
   ],
   "source": [
    "count_word_freqs(dF.text)"
   ]
  },
  {
   "cell_type": "code",
   "execution_count": null,
   "metadata": {},
   "outputs": [],
   "source": []
  }
 ],
 "metadata": {
  "kernelspec": {
   "display_name": "Python 3",
   "language": "python",
   "name": "python3"
  },
  "language_info": {
   "codemirror_mode": {
    "name": "ipython",
    "version": 3
   },
   "file_extension": ".py",
   "mimetype": "text/x-python",
   "name": "python",
   "nbconvert_exporter": "python",
   "pygments_lexer": "ipython3",
   "version": "3.7.9"
  }
 },
 "nbformat": 4,
 "nbformat_minor": 4
}
