{
 "cells": [
  {
   "cell_type": "code",
   "execution_count": 1,
   "metadata": {},
   "outputs": [],
   "source": [
    "import re\n"
   ]
  },
  {
   "cell_type": "code",
   "execution_count": 10,
   "metadata": {},
   "outputs": [
    {
     "name": "stdout",
     "output_type": "stream",
     "text": [
      "<re.Match object; span=(0, 6), match='Oliver'>\n",
      "Oliver\n"
     ]
    }
   ],
   "source": [
    "# search string for the pattern using regular expression python package\n",
    "string = 'Oliver is a good doggie'\n",
    "pattern = 'Oliver'\n",
    "\n",
    "# match object\n",
    "mo = re.search(pattern, string)\n",
    "\n",
    "print(mo)\n",
    "\n",
    "print(mo.group(0))"
   ]
  },
  {
   "cell_type": "code",
   "execution_count": 9,
   "metadata": {},
   "outputs": [
    {
     "name": "stdout",
     "output_type": "stream",
     "text": [
      "good doggie\n"
     ]
    }
   ],
   "source": [
    "# search can be used to look for matches anywhere in the string\n",
    "pattern = 'good doggie'\n",
    "mo = re.search(pattern, string)\n",
    "\n",
    "print(mo.group(0))"
   ]
  },
  {
   "cell_type": "code",
   "execution_count": 23,
   "metadata": {},
   "outputs": [
    {
     "name": "stdout",
     "output_type": "stream",
     "text": [
      "there are 3 matches of good doggie\n"
     ]
    }
   ],
   "source": [
    "string = 'Oliver is a good doggie but there are other good doggies out there in the world.\\\n",
    "            Still, he is my favorite of all the good doggies i have ever met'\n",
    "pattern = 'good doggie'\n",
    "\n",
    "mo = re.findall(pattern, string)\n",
    "print('there are', len(mo), 'matches of', pattern)\n"
   ]
  },
  {
   "cell_type": "code",
   "execution_count": null,
   "metadata": {},
   "outputs": [],
   "source": []
  }
 ],
 "metadata": {
  "kernelspec": {
   "display_name": "Python 3",
   "language": "python",
   "name": "python3"
  },
  "language_info": {
   "codemirror_mode": {
    "name": "ipython",
    "version": 3
   },
   "file_extension": ".py",
   "mimetype": "text/x-python",
   "name": "python",
   "nbconvert_exporter": "python",
   "pygments_lexer": "ipython3",
   "version": "3.7.9"
  }
 },
 "nbformat": 4,
 "nbformat_minor": 4
}
