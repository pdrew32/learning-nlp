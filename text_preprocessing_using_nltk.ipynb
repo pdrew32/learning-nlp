{
 "cells": [
  {
   "cell_type": "markdown",
   "metadata": {},
   "source": [
    "# Text pre-processing using NLTK\n",
    "\n",
    "In this notebook I work through the Implementing Text Pre-processing Using NLTK exercise from the [intro to NLP course by Shivam Bansal](https://courses.analyticsvidhya.com/courses/Intro-to-NLP)."
   ]
  },
  {
   "cell_type": "code",
   "execution_count": 5,
   "metadata": {},
   "outputs": [],
   "source": [
    "import nltk"
   ]
  },
  {
   "cell_type": "code",
   "execution_count": 62,
   "metadata": {},
   "outputs": [
    {
     "name": "stderr",
     "output_type": "stream",
     "text": [
      "[nltk_data] Downloading package punkt to /Users/pdrew/nltk_data...\n",
      "[nltk_data]   Package punkt is already up-to-date!\n",
      "[nltk_data] Downloading package wordnet to /Users/pdrew/nltk_data...\n",
      "[nltk_data]   Unzipping corpora/wordnet.zip.\n"
     ]
    },
    {
     "data": {
      "text/plain": [
       "True"
      ]
     },
     "execution_count": 62,
     "metadata": {},
     "output_type": "execute_result"
    }
   ],
   "source": [
    "# First need to download punkt to tokenize sentences and wordnet to lemmatize\n",
    "nltk.download('punkt')\n",
    "nltk.download('wordnet')"
   ]
  },
  {
   "cell_type": "code",
   "execution_count": 22,
   "metadata": {},
   "outputs": [],
   "source": [
    "text = 'Last night Oliver was sick. He walked around the bedroom a lot and tried to get our attention\\\n",
    "        but I was asleep and Lina did not understand he was feeling sick because he was not displaying\\\n",
    "        his usual tells.'"
   ]
  },
  {
   "cell_type": "code",
   "execution_count": 23,
   "metadata": {},
   "outputs": [
    {
     "name": "stdout",
     "output_type": "stream",
     "text": [
      "n sentences: 2 \n",
      "\n",
      "sentence 0 : Last night Oliver was sick.\n",
      "sentence 1 : He walked around the bedroom a lot and tried to get our attention        but I was asleep and Lina did not understand he was feeling sick because he was not displaying        his usual tells.\n"
     ]
    }
   ],
   "source": [
    "# separate out the sentences\n",
    "sents = nltk.tokenize.sent_tokenize(text)\n",
    "\n",
    "print('n sentences:', len(sents), '\\n')\n",
    "\n",
    "for i in range(len(sents)):\n",
    "    print('sentence', str(i), \":\", sents[i])"
   ]
  },
  {
   "cell_type": "code",
   "execution_count": 68,
   "metadata": {},
   "outputs": [
    {
     "name": "stdout",
     "output_type": "stream",
     "text": [
      "the first 10 words are: ['Last', 'night', 'Oliver', 'was', 'sick', '.', 'He', 'walked', 'around', 'the']\n"
     ]
    }
   ],
   "source": [
    "# now let's tokenize words instead of sentences\n",
    "words = nltk.tokenize.word_tokenize(text)\n",
    "\n",
    "print('the first 10 words are:', words[:10])"
   ]
  },
  {
   "cell_type": "markdown",
   "metadata": {},
   "source": [
    "# Stemming\n",
    "Now let's try removing the affixes from words, leaving just the stems"
   ]
  },
  {
   "cell_type": "code",
   "execution_count": 69,
   "metadata": {},
   "outputs": [
    {
     "name": "stdout",
     "output_type": "stream",
     "text": [
      "['Last', 'night', 'Oliver', 'was', 'sick', '.', 'He', 'walked', 'around', 'the', 'bedroom', 'a', 'lot', 'and', 'tried', 'to', 'get', 'our', 'attention', 'but', 'I', 'was', 'asleep', 'and', 'Lina', 'did', 'not', 'understand', 'he', 'was', 'feeling', 'sick', 'because', 'he', 'was', 'not', 'displaying', 'his', 'usual', 'tells', '.']\n"
     ]
    }
   ],
   "source": [
    "# make a stemmer object\n",
    "stemmer = nltk.stem.PorterStemmer()\n",
    "\n",
    "print(words)"
   ]
  },
  {
   "cell_type": "code",
   "execution_count": 70,
   "metadata": {},
   "outputs": [
    {
     "name": "stdout",
     "output_type": "stream",
     "text": [
      "['last', 'night', 'oliv', 'wa', 'sick', '.', 'He', 'walk', 'around', 'the', 'bedroom', 'a', 'lot', 'and', 'tri', 'to', 'get', 'our', 'attent', 'but', 'I', 'wa', 'asleep', 'and', 'lina', 'did', 'not', 'understand', 'he', 'wa', 'feel', 'sick', 'becaus', 'he', 'wa', 'not', 'display', 'hi', 'usual', 'tell', '.']\n"
     ]
    }
   ],
   "source": [
    "# let's try stemming each of the words from the story above\n",
    "\n",
    "# singles = [stemmer.stem(words) for word in words]\n",
    "\n",
    "singles = words.copy()\n",
    "for i in range(len(words)):\n",
    "    singles[i] = stemmer.stem(words[i])\n",
    "    \n",
    "print(singles)"
   ]
  },
  {
   "cell_type": "markdown",
   "metadata": {},
   "source": [
    "We see that some of these stemmed words are no longer words in the dictionary, for example oliver became oliv and was became wa. For this reason stemming is not a good tool for the normalization of text. Lemmatizing is a better choice than stemming for this."
   ]
  },
  {
   "cell_type": "code",
   "execution_count": 73,
   "metadata": {},
   "outputs": [
    {
     "name": "stdout",
     "output_type": "stream",
     "text": [
      "['Last', 'night', 'Oliver', 'wa', 'sick', '.', 'He', 'walked', 'around', 'the', 'bedroom', 'a', 'lot', 'and', 'tried', 'to', 'get', 'our', 'attention', 'but', 'I', 'wa', 'asleep', 'and', 'Lina', 'did', 'not', 'understand', 'he', 'wa', 'feeling', 'sick', 'because', 'he', 'wa', 'not', 'displaying', 'his', 'usual', 'tell', '.']\n"
     ]
    }
   ],
   "source": [
    "lem = nltk.stem.WordNetLemmatizer()\n",
    "\n",
    "singles = words.copy()\n",
    "for i in range(len(words)):\n",
    "    singles[i] = lem.lemmatize(words[i])\n",
    "    \n",
    "print(singles)"
   ]
  },
  {
   "cell_type": "markdown",
   "metadata": {},
   "source": [
    "Lemmatization did better, but still fails to work on the word 'was'."
   ]
  },
  {
   "cell_type": "code",
   "execution_count": null,
   "metadata": {},
   "outputs": [],
   "source": []
  }
 ],
 "metadata": {
  "kernelspec": {
   "display_name": "Python 3",
   "language": "python",
   "name": "python3"
  },
  "language_info": {
   "codemirror_mode": {
    "name": "ipython",
    "version": 3
   },
   "file_extension": ".py",
   "mimetype": "text/x-python",
   "name": "python",
   "nbconvert_exporter": "python",
   "pygments_lexer": "ipython3",
   "version": "3.7.9"
  }
 },
 "nbformat": 4,
 "nbformat_minor": 4
}
